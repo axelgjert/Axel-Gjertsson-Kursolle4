{
 "metadata": {
  "language_info": {
   "codemirror_mode": {
    "name": "ipython",
    "version": 3
   },
   "file_extension": ".py",
   "mimetype": "text/x-python",
   "name": "python",
   "nbconvert_exporter": "python",
   "pygments_lexer": "ipython3",
   "version": "3.8.3-final"
  },
  "orig_nbformat": 2,
  "kernelspec": {
   "name": "python3",
   "display_name": "Python 3",
   "language": "python"
  }
 },
 "nbformat": 4,
 "nbformat_minor": 2,
 "cells": [
  {
   "cell_type": "code",
   "execution_count": 1,
   "metadata": {},
   "outputs": [
    {
     "output_type": "stream",
     "name": "stdout",
     "text": [
      "1\n3\n5\n7\n9\nSumman av alla talen blir 945\n"
     ]
    }
   ],
   "source": [
    "#Uppgift: m04u01\n",
    "summa = 1\n",
    "list = range(1,11,2)\n",
    "for x in list:\n",
    "    print(x)\n",
    "    summa *= x\n",
    "\n",
    "else:\n",
    "        print(f\"Summan av alla talen blir {summa}\")"
   ]
  },
  {
   "cell_type": "code",
   "execution_count": 2,
   "metadata": {},
   "outputs": [
    {
     "output_type": "stream",
     "name": "stdout",
     "text": [
      "15579.674166007651\n"
     ]
    }
   ],
   "source": [
    "#Uppgift: m04u02\n",
    "förändring = 1.03\n",
    "år = 15\n",
    "pengar = 10000\n",
    "\n",
    "pengar = pengar*förändring**år\n",
    "\n",
    "print(pengar)"
   ]
  },
  {
   "cell_type": "code",
   "execution_count": 2,
   "metadata": {},
   "outputs": [
    {
     "output_type": "stream",
     "name": "stdout",
     "text": [
      "Multiplikations tabellen av 10 är:\n10 * 1 = 10\n10 * 2 = 20\n10 * 3 = 30\n10 * 4 = 40\n10 * 5 = 50\n10 * 6 = 60\n10 * 7 = 70\n10 * 8 = 80\n10 * 9 = 90\n10 * 10 = 100\n"
     ]
    }
   ],
   "source": [
    "#Påhittad uppgift\n",
    "num = int(input(\"Ange ett nummer: \"))\n",
    "\n",
    "print(\"Multiplikations tabellen av\", num, \"är:\")\n",
    "for i in range(1, 11):\n",
    "   print(num,\"*\",i,\"=\",num * i)"
   ]
  },
  {
   "cell_type": "code",
   "execution_count": 1,
   "metadata": {},
   "outputs": [
    {
     "output_type": "stream",
     "name": "stdout",
     "text": [
      "Din multiplikationstabell kommer att se ut såhär:\n8 * 1 = 8\n8 * 2 = 16\n8 * 3 = 24\n8 * 4 = 32\n8 * 5 = 40\n8 * 6 = 48\n8 * 7 = 56\n8 * 8 = 64\n8 * 9 = 72\n8 * 10 = 80\n8 * 11 = 88\n8 * 12 = 96\n8 * 13 = 104\n8 * 14 = 112\n8 * 15 = 120\n"
     ]
    }
   ],
   "source": [
    "#Uppgift: m04u03\n",
    "\n",
    "num = int(input(\"Ange ett nummer: \"))\n",
    "\n",
    "print(\"Din multiplikationstabell kommer att se ut såhär:\")\n",
    "\n",
    "for i in range(1, 16):\n",
    "    print(num, \"*\",i,\"=\",num*i)\n"
   ]
  },
  {
   "cell_type": "code",
   "execution_count": 5,
   "metadata": {
    "tags": []
   },
   "outputs": [
    {
     "output_type": "stream",
     "name": "stdout",
     "text": [
      "   1   2   3   4   5   6   7   8   9  10\n   2   4   6   8  10  12  14  16  18  20\n   3   6   9  12  15  18  21  24  27  30\n   4   8  12  16  20  24  28  32  36  40\n   5  10  15  20  25  30  35  40  45  50\n   6  12  18  24  30  36  42  48  54  60\n   7  14  21  28  35  42  49  56  63  70\n   8  16  24  32  40  48  56  64  72  80\n   9  18  27  36  45  54  63  72  81  90\n  10  20  30  40  50  60  70  80  90 100\n"
     ]
    }
   ],
   "source": [
    "n = int(input(\"Välj hur långt tabellen ska gå?\"))\n",
    "m = list(list(range(1*i,(n+1)*i, i)) \n",
    "for i in range(1,n+1))\n",
    "for i in m:\n",
    "    i = [str(j).rjust(len(str(m[-1][-1]))+1) for j in i]\n",
    "    print(''.join(i))\n"
   ]
  },
  {
   "cell_type": "code",
   "execution_count": 1,
   "metadata": {},
   "outputs": [
    {
     "output_type": "stream",
     "name": "stdout",
     "text": [
      "\nVi loopar från 10 till 20.\nNär i är 12 så är totalsumman 33\nNär i är 15 så är totalsumman 75\nNär i är 18 så är totalsumman 126\nNär vi loopat färdigt så är summan 165\n"
     ]
    }
   ],
   "source": [
    "#kodexempel\n",
    "# Deklarerar variabler\n",
    "summa = 0\n",
    "start = 10\n",
    "stopp = 20\n",
    "print(\"\\nVi loopar från {} till {}.\".format(start, stopp))\n",
    "# Loopar från start till stopp\n",
    "for i in range (start, stopp+1):\n",
    "    summa += i\n",
    "    # Om i är jämnt delbart med 3 skriver vi ut en delberäkning\n",
    "    if i % 3 == 0:\n",
    "        print(\"När i är {} så är totalsumman {}\".format(i, summa))\n",
    "# else som tillhör loopen och körs när loopen har körts färdigt\n",
    "else:\n",
    "    print(\"När vi loopat färdigt så är summan {}\".format(summa))"
   ]
  },
  {
   "cell_type": "code",
   "execution_count": 19,
   "metadata": {},
   "outputs": [
    {
     "output_type": "stream",
     "name": "stdout",
     "text": [
      "Arean på din rektangel är 32 kvadratmeter\nDin Bas: 4 - Arean med värden från 1-10: 4\nDin Bas: 4 - Arean med värden från 1-10: 8\nDin Bas: 4 - Arean med värden från 1-10: 12\nDin Bas: 4 - Arean med värden från 1-10: 16\nDin Bas: 4 - Arean med värden från 1-10: 20\nDin Bas: 4 - Arean med värden från 1-10: 24\nDin Bas: 4 - Arean med värden från 1-10: 28\nDin Bas: 4 - Arean med värden från 1-10: 32\nDin Bas: 4 - Arean med värden från 1-10: 36\nDin Bas: 4 - Arean med värden från 1-10: 40\n"
     ]
    }
   ],
   "source": [
    "#inlämningsuppgift m04\n",
    "\n",
    "\n",
    "# Be användaren mata in rektangelns två sidor\n",
    "basen = int(input(\"Ange din vågräta sida:\"))\n",
    "höjd = int(input(\"Ange din lodräta sida:\"))\n",
    "# Beräkna och skriv ut arean på rektangeln\n",
    "rektangel = basen * höjd\n",
    "print(f\"Arean på din rektangel är {rektangel} kvadratmeter\")\n",
    "# Om bägge sidorna är lika långa...\n",
    "if basen == höjd:\n",
    "    print(\"Detta är dock inte en rektangel. Det är en kvadrat eftersom sidorna är lika långa.\")\n",
    "  # ... tala om att det är en kvadrat\n",
    "# Loopa höjden från 1 till 10\n",
    "for höjd in range(1,11):\n",
    "    print(f\"Din Bas: {basen} - Arean med 'höjd' värden från 1-10: {höjd*basen}\")\n",
    "  # Beräkna volymen och skriv ut den"
   ]
  },
  {
   "cell_type": "code",
   "execution_count": 10,
   "metadata": {},
   "outputs": [
    {
     "output_type": "stream",
     "name": "stdout",
     "text": [
      "Arean på din rektangel är 8 kvadratmeter\n8\n8\n8\n8\n8\n8\n8\n8\n8\n8\n"
     ]
    },
    {
     "output_type": "error",
     "ename": "SyntaxError",
     "evalue": "'continue' not properly in loop (<ipython-input-10-c7d6123b2631>, line 23)",
     "traceback": [
      "\u001b[1;36m  File \u001b[1;32m\"<ipython-input-10-c7d6123b2631>\"\u001b[1;36m, line \u001b[1;32m23\u001b[0m\n\u001b[1;33m    continue\u001b[0m\n\u001b[1;37m    ^\u001b[0m\n\u001b[1;31mSyntaxError\u001b[0m\u001b[1;31m:\u001b[0m 'continue' not properly in loop\n"
     ]
    }
   ],
   "source": [
    "#uppgift b\n",
    "\n",
    "info = []\n",
    "\n",
    "basen = int(input(\"Ange längden på din bas:\"))\n",
    "höjden = int(input(\"Ange längden på höjden:\"))\n",
    "\n",
    "rektangel = basen * höjden\n",
    "print(f\"Arean på din rektangel är {rektangel} kvadratmeter\")\n",
    "\n",
    "if basen == höjden:\n",
    "    print(\"Detta är dock inte en rektangel. Det är en kvadrat eftersom sidorna är lika långa.\")\n",
    "\n",
    "for höjden in range(1,11):\n",
    "    print(rektangel)\n",
    "#Här är det en fel input eftersom att den inte printar med olika höjder.\n",
    "\n",
    "while True:\n",
    "  avsluta = input(\"Tryck på 'Q' om du vill avsluta\")\n",
    "  if avsluta == 'Q':\n",
    "    break\n",
    "if avsluta != 'Q':\n",
    "    continue\n",
    "\n",
    "print(*info, sep = \"\\n\")"
   ]
  },
  {
   "cell_type": "code",
   "execution_count": 12,
   "metadata": {},
   "outputs": [
    {
     "output_type": "stream",
     "name": "stdout",
     "text": [
      "Rektangeln har sidorna 4 och 2 vilket gör arean till 8\n"
     ]
    },
    {
     "output_type": "error",
     "ename": "TypeError",
     "evalue": "'int' object is not callable",
     "traceback": [
      "\u001b[1;31m---------------------------------------------------------------------------\u001b[0m",
      "\u001b[1;31mTypeError\u001b[0m                                 Traceback (most recent call last)",
      "\u001b[1;32m<ipython-input-12-d42a9ad55987>\u001b[0m in \u001b[0;36m<module>\u001b[1;34m\u001b[0m\n\u001b[0;32m     21\u001b[0m \u001b[1;33m\u001b[0m\u001b[0m\n\u001b[0;32m     22\u001b[0m     \u001b[1;32mfor\u001b[0m \u001b[0mhöjden\u001b[0m \u001b[1;32min\u001b[0m \u001b[0mrange\u001b[0m\u001b[1;33m(\u001b[0m\u001b[1;36m1\u001b[0m\u001b[1;33m,\u001b[0m\u001b[1;36m11\u001b[0m\u001b[1;33m)\u001b[0m\u001b[1;33m:\u001b[0m\u001b[1;33m\u001b[0m\u001b[1;33m\u001b[0m\u001b[0m\n\u001b[1;32m---> 23\u001b[1;33m         \u001b[0mvol\u001b[0m \u001b[1;33m=\u001b[0m \u001b[0marea\u001b[0m\u001b[1;33m(\u001b[0m\u001b[0mhöjden\u001b[0m\u001b[1;33m)\u001b[0m\u001b[1;33m\u001b[0m\u001b[1;33m\u001b[0m\u001b[0m\n\u001b[0m\u001b[0;32m     24\u001b[0m         \u001b[0mprint\u001b[0m\u001b[1;33m(\u001b[0m\u001b[1;34mf\"När höjden är {i} så är arean {vol}\"\u001b[0m\u001b[1;33m)\u001b[0m\u001b[1;33m\u001b[0m\u001b[1;33m\u001b[0m\u001b[0m\n\u001b[0;32m     25\u001b[0m \u001b[1;33m\u001b[0m\u001b[0m\n",
      "\u001b[1;31mTypeError\u001b[0m: 'int' object is not callable"
     ]
    }
   ],
   "source": [
    "#moment 4 b v2\n",
    "rektangel = []\n",
    "\n",
    "while True:\n",
    "    basen = int(input(\"Ange rektangelns första sida: \"))\n",
    "    höjden = int(input(\"ange rektangelns andra sida: \"))\n",
    "\n",
    "    area = basen*höjden\n",
    "\n",
    "    print(f\"Rektangeln har sidorna {basen} och {höjden} vilket gör arean till {area}\")\n",
    "\n",
    "    if basen == höjden:\n",
    "        print(\"Eftersom att både basen och höjden är lika långa så är detta inte en rektangel. Det är en kvadrat.\")\n",
    "\n",
    "    if basen == höjden:\n",
    "        raktangel.append(f\"Din rektangeln har sidorna {basen} och {höjden} vilket gör arean till {area}, men eftersom båda sidorna är lika långa blir denna det en kvadrat\")\n",
    "    else:\n",
    "        rektangel.append(f\"Rektangeln har sidorna {basen} och {höjden} vilket gör arean till {area} kvadratmeter\")\n",
    "\n",
    "\n",
    "\n",
    "    for i in range(1,11):\n",
    "        vol = area(i)\n",
    "        print(f\"När höjden är {i} så är arean {vol}\")\n",
    "\n",
    "    while True:\n",
    "        svar = str(input(\"Vill du göra en till beräkning ( j / n )?: \"))\n",
    "        if svar in ('j', 'n'):\n",
    "            break\n",
    "        print(\"felaktig input\")\n",
    "    if svar == 'j':\n",
    "        continue\n",
    "    else:\n",
    "        break\n",
    "\n",
    "\n",
    "print(*rektangel, sep = \"\\n\")"
   ]
  },
  {
   "cell_type": "code",
   "execution_count": 2,
   "metadata": {},
   "outputs": [
    {
     "output_type": "stream",
     "name": "stdout",
     "text": [
      "14\n22\n"
     ]
    }
   ],
   "source": [
    "#Uppgift M04u05\n",
    "#Definiera variabler\n",
    "\n",
    "r = 100\n",
    "månader = 0\n",
    "\n",
    "while r < 1000000:\n",
    "    månader += 1\n",
    "    r *= 2\n",
    "\n",
    "print(str(månader))\n",
    "\n",
    "resultat = [55,22,3,5,1]\n",
    "print(resultat[1])\n",
    "\n",
    "resultat = [\"Namn\", 5, 77]\n",
    "\n",
    "\n",
    "\n",
    "def main():\n",
    "    a = input(\"Graph G\")\n",
    "    print(\"Flow f´such that...\")\n",
    "\n",
    "    for edge in (1,10):\n",
    "        print(\"f\")\n",
    "\n",
    "    while a < 100:\n",
    "        print (\"PAth for something..\") \n",
    "        for edge in (1,10):\n",
    "            print(\"f\")"
   ]
  },
  {
   "cell_type": "code",
   "execution_count": 13,
   "metadata": {},
   "outputs": [
    {
     "output_type": "stream",
     "name": "stdout",
     "text": [
      "Rektangeln har sidorna 4 och 2 vilket gör arean till 8\n"
     ]
    },
    {
     "output_type": "error",
     "ename": "TypeError",
     "evalue": "'int' object is not callable",
     "traceback": [
      "\u001b[1;31m---------------------------------------------------------------------------\u001b[0m",
      "\u001b[1;31mTypeError\u001b[0m                                 Traceback (most recent call last)",
      "\u001b[1;32m<ipython-input-13-ad48c6d4df28>\u001b[0m in \u001b[0;36m<module>\u001b[1;34m\u001b[0m\n\u001b[0;32m     23\u001b[0m \u001b[1;33m\u001b[0m\u001b[0m\n\u001b[0;32m     24\u001b[0m     \u001b[1;32mfor\u001b[0m \u001b[0mhöjden\u001b[0m \u001b[1;32min\u001b[0m \u001b[0mrange\u001b[0m\u001b[1;33m(\u001b[0m\u001b[1;36m1\u001b[0m\u001b[1;33m,\u001b[0m\u001b[1;36m11\u001b[0m\u001b[1;33m)\u001b[0m\u001b[1;33m:\u001b[0m\u001b[1;33m\u001b[0m\u001b[1;33m\u001b[0m\u001b[0m\n\u001b[1;32m---> 25\u001b[1;33m         \u001b[0mvol\u001b[0m \u001b[1;33m=\u001b[0m \u001b[0marea\u001b[0m\u001b[1;33m(\u001b[0m\u001b[0mi\u001b[0m\u001b[1;33m)\u001b[0m\u001b[1;33m\u001b[0m\u001b[1;33m\u001b[0m\u001b[0m\n\u001b[0m\u001b[0;32m     26\u001b[0m         \u001b[0mprint\u001b[0m\u001b[1;33m(\u001b[0m\u001b[1;34mf\"När höjden är {i} så är arean {vol}\"\u001b[0m\u001b[1;33m)\u001b[0m\u001b[1;33m\u001b[0m\u001b[1;33m\u001b[0m\u001b[0m\n\u001b[0;32m     27\u001b[0m \u001b[1;33m\u001b[0m\u001b[0m\n",
      "\u001b[1;31mTypeError\u001b[0m: 'int' object is not callable"
     ]
    }
   ],
   "source": [
    "#uppgift C\n",
    "\n",
    "#moment 4 b v2\n",
    "rektangel = []\n",
    "\n",
    "while True:\n",
    "    basen = int(input(\"Ange rektangelns första sida: \"))\n",
    "    höjden = int(input(\"ange rektangelns andra sida: \"))\n",
    "\n",
    "    area = basen*höjden\n",
    "\n",
    "    print(f\"Rektangeln har sidorna {basen} och {höjden} vilket gör arean till {area}\")\n",
    "\n",
    "    if basen == höjden:\n",
    "        print(\"Eftersom att både basen och höjden är lika långa så är detta inte en rektangel. Det är en kvadrat.\")\n",
    "\n",
    "    if basen == höjden:\n",
    "        raktangel.append(f\"Din rektangeln har sidorna {basen} och {höjden} vilket gör arean till {area}, men eftersom båda sidorna är lika långa blir denna det en kvadrat\")\n",
    "    else:\n",
    "        rektangel.append(f\"Rektangeln har sidorna {basen} och {höjden} vilket gör arean till {area} kvadratmeter\")\n",
    "\n",
    "\n",
    "\n",
    "    for höjden in range(1,11):\n",
    "        vol = area(i)\n",
    "        print(f\"När höjden är {i} så är arean {vol}\")\n",
    "\n",
    "    while True:\n",
    "        svar = str(input(\"Vill du göra en till beräkning ( j / n )?: \"))\n",
    "        if svar in ('j', 'n'):\n",
    "            break\n",
    "        print(\"felaktig input\")\n",
    "    if svar == 'j':\n",
    "        continue\n",
    "    else:\n",
    "        break\n",
    "\n",
    "\n",
    "print(*rektangel, sep = \"\\n\")"
   ]
  },
  {
   "cell_type": "code",
   "execution_count": null,
   "metadata": {},
   "outputs": [],
   "source": []
  }
 ]
}