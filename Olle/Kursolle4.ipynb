{
 "metadata": {
  "language_info": {
   "codemirror_mode": {
    "name": "ipython",
    "version": 3
   },
   "file_extension": ".py",
   "mimetype": "text/x-python",
   "name": "python",
   "nbconvert_exporter": "python",
   "pygments_lexer": "ipython3",
   "version": 3
  },
  "orig_nbformat": 2
 },
 "nbformat": 4,
 "nbformat_minor": 2,
 "cells": [
  {
   "cell_type": "code",
   "execution_count": null,
   "metadata": {},
   "outputs": [],
   "source": [
    "#Uppgift: m04u01\n",
    "summa = 1\n",
    "list = range(1,11,2)\n",
    "for x in list:\n",
    "    print(x)\n",
    "    summa *= x\n",
    "\n",
    "else:\n",
    "        print(f\"Summan av alla talen blir {summa}\")"
   ]
  },
  {
   "cell_type": "code",
   "execution_count": null,
   "metadata": {},
   "outputs": [],
   "source": [
    "#Uppgift: m04u02\n",
    "förändring = 1.03\n",
    "år = 15\n",
    "pengar = 10000\n",
    "\n",
    "pengar = pengar*förändring**år\n",
    "\n",
    "print(pengar)"
   ]
  },
  {
   "cell_type": "code",
   "execution_count": null,
   "metadata": {},
   "outputs": [],
   "source": [
    "#Uppgift: m04u03\n",
    "\n",
    "num = int(input(\"Ange ett nummer: \"))\n",
    "\n",
    "print(\"Din multiplikationstabell kommer att se ut såhär:\")\n",
    "\n",
    "for i in range(1, 16):\n",
    "    print(num, \"*\",i,\"=\",num*i)"
   ]
  },
  {
   "cell_type": "code",
   "execution_count": null,
   "metadata": {},
   "outputs": [],
   "source": [
    "#inlämningsuppgift m04\n",
    "\n",
    "\n",
    "# Be användaren mata in rektangelns två sidor\n",
    "basen = int(input(\"Ange din vågräta sida:\"))\n",
    "höjd = int(input(\"Ange din lodräta sida:\"))\n",
    "# Beräkna och skriv ut arean på rektangeln\n",
    "rektangel = basen * höjd\n",
    "print(f\"Arean på din rektangel är {rektangel} kvadratmeter\")\n",
    "# Om bägge sidorna är lika långa...\n",
    "if basen == höjd:\n",
    "    print(\"Detta är dock inte en rektangel. Det är en kvadrat eftersom sidorna är lika långa.\")\n",
    "  # ... tala om att det är en kvadrat\n",
    "# Loopa höjden från 1 till 10\n",
    "for höjd in range(1,11):\n",
    "    print(f\"Din Bas: {basen} - Arean med 'höjd' värden från 1-10: {höjd*basen}\")\n",
    "  # Beräkna volymen och skriv ut den"
   ]
  },
  {
   "cell_type": "code",
   "execution_count": null,
   "metadata": {},
   "outputs": [],
   "source": [
    "#Uppgift M04u05\n",
    "#Definiera variabler\n",
    "\n",
    "r = 100\n",
    "månader = 0\n",
    "\n",
    "while r < 1000000:\n",
    "    månader += 1\n",
    "    r *= 2\n",
    "\n",
    "print(str(månader))\n",
    "\n",
    "resultat = [55,22,3,5,1]\n",
    "print(resultat[1])\n",
    "\n",
    "resultat = [\"Namn\", 5, 77]\n",
    "\n",
    "\n",
    "\n",
    "def main():\n",
    "    a = input(\"Graph G\")\n",
    "    print(\"Flow f´such that...\")\n",
    "\n",
    "    for edge in (1,10):\n",
    "        print(\"f\")\n",
    "\n",
    "    while a < 100:\n",
    "        print (\"PAth for something..\") \n",
    "        for edge in (1,10):\n",
    "            print(\"f\")"
   ]
  },
  {
   "cell_type": "code",
   "execution_count": null,
   "metadata": {},
   "outputs": [],
   "source": [
    "#uppgift C\n",
    "\n",
    "rektangel = []\n",
    "\n",
    "while True:\n",
    "    basen = int(input(\"Ange rektangelns första sida: \"))\n",
    "    höjden = int(input(\"ange rektangelns andra sida: \"))\n",
    "\n",
    "    area = basen*höjden\n",
    "\n",
    "    print(f\"Rektangeln har sidorna {basen} och {höjden} vilket gör arean till {area}\")\n",
    "\n",
    "    if basen == höjden:\n",
    "        print(\"Eftersom att både basen och höjden är lika långa så är detta inte en rektangel. Det är en kvadrat.\")\n",
    "\n",
    "    if basen == höjden:\n",
    "        raktangel.append(f\"Din rektangeln har sidorna {basen} och {höjden} vilket gör arean till {area}, men eftersom båda sidorna är lika långa blir denna det en kvadrat\")\n",
    "    else:\n",
    "        rektangel.append(f\"Rektangeln har sidorna {basen} och {höjden} vilket gör arean till {area} kvadratmeter\")\n",
    "\n",
    "\n",
    "\n",
    "    for höjden in range(1,11):\n",
    "        vol = area(i)\n",
    "        print(f\"När höjden är {i} så är arean {vol}\")\n",
    "\n",
    "    while True:\n",
    "        svar = str(input(\"Vill du göra en till beräkning ( j / n )?: \"))\n",
    "        if svar in ('j', 'n'):\n",
    "            break\n",
    "        print(\"felaktig input\")\n",
    "    if svar == 'j':\n",
    "        continue\n",
    "    else:\n",
    "        break\n",
    "\n",
    "\n",
    "print(*rektangel, sep = \"\\n\")"
   ]
  },
  {
   "cell_type": "code",
   "execution_count": null,
   "metadata": {},
   "outputs": [],
   "source": []
  }
 ]
}